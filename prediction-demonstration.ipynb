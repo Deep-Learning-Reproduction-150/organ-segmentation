{
 "cells": [
  {
   "cell_type": "markdown",
   "metadata": {},
   "source": [
    "# OrganNet25D Demonstration\n",
    "\n",
    "**Contents**\n",
    "\n",
    "1. [Imports](#imports)\n",
    "2. [Loading a runner](#runner)\n",
    "3. [Data](#data)\n",
    "4. [Model](#model)\n",
    "5. [Visualise different organs](#organs)\n",
    "6. [Predict](#predict)\n",
    "7. [Visualise predictions](#results)"
   ]
  },
  {
   "cell_type": "markdown",
   "metadata": {},
   "source": [
    "## Imports "
   ]
  },
  {
   "cell_type": "code",
   "execution_count": 1,
   "metadata": {},
   "outputs": [
    {
     "name": "stdout",
     "output_type": "stream",
     "text": [
      "Requirement already satisfied: plotly in ./.venv/lib/python3.9/site-packages (5.6.0)\n",
      "Requirement already satisfied: tenacity>=6.2.0 in ./.venv/lib/python3.9/site-packages (from plotly) (8.0.1)\n",
      "Requirement already satisfied: six in ./.venv/lib/python3.9/site-packages (from plotly) (1.16.0)\n",
      "Note: you may need to restart the kernel to use updated packages.\n"
     ]
    }
   ],
   "source": [
    "%pip install plotly"
   ]
  },
  {
   "cell_type": "code",
   "execution_count": 4,
   "metadata": {},
   "outputs": [],
   "source": [
    "from pathlib import Path\n",
    "import numpy as np\n",
    "from matplotlib import pyplot as plt\n",
    "import plotly.offline as pyo\n",
    "import plotly.graph_objs as go\n",
    "import plotly.io as pio\n",
    "pio.renderers.default = \"browser\"\n",
    "\n",
    "from src.utils import Logger, Timer, bcolors\n",
    "from src.Runner.Runner import Runner\n",
    "\n",
    "Logger.initialize()"
   ]
  },
  {
   "cell_type": "markdown",
   "metadata": {},
   "source": [
    " <a id=section2></a>\n",
    "## Runner\n"
   ]
  },
  {
   "cell_type": "code",
   "execution_count": 3,
   "metadata": {},
   "outputs": [],
   "source": [
    "jobs = [\n",
    "    \"config/demonstration.json\",\n",
    "]\n",
    "\n",
    "# Create a trainer object and call him robert\n",
    "worker = Runner(jobs=jobs, debug=True, wandb=False)"
   ]
  },
  {
   "cell_type": "markdown",
   "metadata": {},
   "source": [
    "# Data\n",
    "\n",
    "Get suitable samples from the data"
   ]
  },
  {
   "cell_type": "code",
   "execution_count": 5,
   "metadata": {},
   "outputs": [
    {
     "name": "stdout",
     "output_type": "stream",
     "text": [
      "\u001b[94mINFO    Started loading the data set with possibly 16 samples\u001b[0m\n",
      "\u001b[94mRUN     100.0% .................................................. importing data\u001b[0m\u001b[0m\n",
      "LOG     Finished loading the dataset (16 samples)\n",
      "LOG     Started applying the specified transformations to the samples\n",
      "\u001b[94mRUN     100.0% .................................................. transforming data\u001b[0m\u001b[0m\n",
      "\u001b[92mDONE    Loading of data completed\u001b[0m\n",
      "\n",
      "\n"
     ]
    }
   ],
   "source": [
    "dataset = worker._get_dataset(worker.job_queue[0][\"training\"][\"dataset\"])"
   ]
  },
  {
   "cell_type": "code",
   "execution_count": 6,
   "metadata": {},
   "outputs": [],
   "source": [
    "import pandas as pd\n",
    "base_url = \"https://raw.githubusercontent.com/plotly/datasets/master/ply/\"\n",
    "mesh_names = [\"sandal\", \"scissors\", \"shark\", \"walkman\"]\n",
    "dataframes = {name: pd.read_csv(base_url + name + \"-ply.csv\") for name in mesh_names}\n"
   ]
  },
  {
   "cell_type": "code",
   "execution_count": 34,
   "metadata": {},
   "outputs": [
    {
     "data": {
      "text/html": [
       "<div>\n",
       "<style scoped>\n",
       "    .dataframe tbody tr th:only-of-type {\n",
       "        vertical-align: middle;\n",
       "    }\n",
       "\n",
       "    .dataframe tbody tr th {\n",
       "        vertical-align: top;\n",
       "    }\n",
       "\n",
       "    .dataframe thead th {\n",
       "        text-align: right;\n",
       "    }\n",
       "</style>\n",
       "<table border=\"1\" class=\"dataframe\">\n",
       "  <thead>\n",
       "    <tr style=\"text-align: right;\">\n",
       "      <th></th>\n",
       "      <th>x</th>\n",
       "      <th>y</th>\n",
       "      <th>z</th>\n",
       "      <th>facecolor</th>\n",
       "      <th>i</th>\n",
       "      <th>j</th>\n",
       "      <th>k</th>\n",
       "    </tr>\n",
       "  </thead>\n",
       "  <tbody>\n",
       "    <tr>\n",
       "      <th>0</th>\n",
       "      <td>-2.42561</td>\n",
       "      <td>-1.47236</td>\n",
       "      <td>0.132523</td>\n",
       "      <td>rgb(31,151,139)</td>\n",
       "      <td>0</td>\n",
       "      <td>1</td>\n",
       "      <td>2</td>\n",
       "    </tr>\n",
       "    <tr>\n",
       "      <th>1</th>\n",
       "      <td>-2.08997</td>\n",
       "      <td>-1.88351</td>\n",
       "      <td>0.097943</td>\n",
       "      <td>rgb(31,151,139)</td>\n",
       "      <td>2</td>\n",
       "      <td>3</td>\n",
       "      <td>0</td>\n",
       "    </tr>\n",
       "    <tr>\n",
       "      <th>2</th>\n",
       "      <td>-2.23897</td>\n",
       "      <td>-1.89583</td>\n",
       "      <td>0.088308</td>\n",
       "      <td>rgb(31,150,139)</td>\n",
       "      <td>0</td>\n",
       "      <td>3</td>\n",
       "      <td>4</td>\n",
       "    </tr>\n",
       "    <tr>\n",
       "      <th>3</th>\n",
       "      <td>-2.44966</td>\n",
       "      <td>-1.87043</td>\n",
       "      <td>0.076921</td>\n",
       "      <td>rgb(31,150,139)</td>\n",
       "      <td>4</td>\n",
       "      <td>5</td>\n",
       "      <td>0</td>\n",
       "    </tr>\n",
       "    <tr>\n",
       "      <th>4</th>\n",
       "      <td>-2.66959</td>\n",
       "      <td>-1.81592</td>\n",
       "      <td>0.066715</td>\n",
       "      <td>rgb(31,150,139)</td>\n",
       "      <td>0</td>\n",
       "      <td>5</td>\n",
       "      <td>6</td>\n",
       "    </tr>\n",
       "    <tr>\n",
       "      <th>...</th>\n",
       "      <td>...</td>\n",
       "      <td>...</td>\n",
       "      <td>...</td>\n",
       "      <td>...</td>\n",
       "      <td>...</td>\n",
       "      <td>...</td>\n",
       "      <td>...</td>\n",
       "    </tr>\n",
       "    <tr>\n",
       "      <th>4947</th>\n",
       "      <td>NaN</td>\n",
       "      <td>NaN</td>\n",
       "      <td>NaN</td>\n",
       "      <td>rgb(35,169,131)</td>\n",
       "      <td>2398</td>\n",
       "      <td>2626</td>\n",
       "      <td>2370</td>\n",
       "    </tr>\n",
       "    <tr>\n",
       "      <th>4948</th>\n",
       "      <td>NaN</td>\n",
       "      <td>NaN</td>\n",
       "      <td>NaN</td>\n",
       "      <td>rgb(34,168,132)</td>\n",
       "      <td>2373</td>\n",
       "      <td>2622</td>\n",
       "      <td>2624</td>\n",
       "    </tr>\n",
       "    <tr>\n",
       "      <th>4949</th>\n",
       "      <td>NaN</td>\n",
       "      <td>NaN</td>\n",
       "      <td>NaN</td>\n",
       "      <td>rgb(34,167,133)</td>\n",
       "      <td>2373</td>\n",
       "      <td>2624</td>\n",
       "      <td>2398</td>\n",
       "    </tr>\n",
       "    <tr>\n",
       "      <th>4950</th>\n",
       "      <td>NaN</td>\n",
       "      <td>NaN</td>\n",
       "      <td>NaN</td>\n",
       "      <td>rgb(34,168,132)</td>\n",
       "      <td>2372</td>\n",
       "      <td>2622</td>\n",
       "      <td>2373</td>\n",
       "    </tr>\n",
       "    <tr>\n",
       "      <th>4951</th>\n",
       "      <td>NaN</td>\n",
       "      <td>NaN</td>\n",
       "      <td>NaN</td>\n",
       "      <td>rgb(37,171,130)</td>\n",
       "      <td>2626</td>\n",
       "      <td>2371</td>\n",
       "      <td>2370</td>\n",
       "    </tr>\n",
       "  </tbody>\n",
       "</table>\n",
       "<p>4952 rows × 7 columns</p>\n",
       "</div>"
      ],
      "text/plain": [
       "            x        y         z        facecolor     i     j     k\n",
       "0    -2.42561 -1.47236  0.132523  rgb(31,151,139)     0     1     2\n",
       "1    -2.08997 -1.88351  0.097943  rgb(31,151,139)     2     3     0\n",
       "2    -2.23897 -1.89583  0.088308  rgb(31,150,139)     0     3     4\n",
       "3    -2.44966 -1.87043  0.076921  rgb(31,150,139)     4     5     0\n",
       "4    -2.66959 -1.81592  0.066715  rgb(31,150,139)     0     5     6\n",
       "...       ...      ...       ...              ...   ...   ...   ...\n",
       "4947      NaN      NaN       NaN  rgb(35,169,131)  2398  2626  2370\n",
       "4948      NaN      NaN       NaN  rgb(34,168,132)  2373  2622  2624\n",
       "4949      NaN      NaN       NaN  rgb(34,167,133)  2373  2624  2398\n",
       "4950      NaN      NaN       NaN  rgb(34,168,132)  2372  2622  2373\n",
       "4951      NaN      NaN       NaN  rgb(37,171,130)  2626  2371  2370\n",
       "\n",
       "[4952 rows x 7 columns]"
      ]
     },
     "execution_count": 34,
     "metadata": {},
     "output_type": "execute_result"
    }
   ],
   "source": [
    "dataframes[\"sandal\"]"
   ]
  },
  {
   "cell_type": "code",
   "execution_count": 10,
   "metadata": {},
   "outputs": [],
   "source": [
    "# Get dataloader for both training and validation\n",
    "train_data, eval_data = worker._get_dataloader(\n",
    "    dataset,\n",
    "    split_ratio=worker.job_queue[0][\"training\"][\"split_ratio\"],\n",
    "    num_workers=worker.job_queue[0][\"training\"][\"num_workers\"],\n",
    "    batch_size=worker.job_queue[0][\"training\"][\"batch_size\"],\n",
    ")"
   ]
  },
  {
   "cell_type": "code",
   "execution_count": 11,
   "metadata": {},
   "outputs": [],
   "source": [
    "for batch, batch_input in enumerate(train_data):\n",
    "    image3d, label3d = batch_input\n",
    "    \n",
    "    break"
   ]
  },
  {
   "cell_type": "code",
   "execution_count": 48,
   "metadata": {},
   "outputs": [
    {
     "data": {
      "text/plain": [
       "<matplotlib.image.AxesImage at 0x7fe7891d58b0>"
      ]
     },
     "execution_count": 48,
     "metadata": {},
     "output_type": "execute_result"
    },
    {
     "data": {
      "image/png": "[encoded data removed]",
      "text/plain": [
       "<Figure size 432x288 with 1 Axes>"
      ]
     },
     "metadata": {
      "needs_background": "light"
     },
     "output_type": "display_data"
    }
   ],
   "source": [
    "from torchvision.utils import make_grid\n",
    "\n",
    "organ_idx = 5 # 9 = background\n",
    "\n",
    "# permute to treat depth as \"batch dim\"\n",
    "x_grid = make_grid(label3d[0, organ_idx].unsqueeze(0).permute(1, 0, 2, 3), nrow=8) \n",
    "# permute to create channels-last array (for matplotlib)\n",
    "x_grid = x_grid.permute(1, 2, 0).numpy()\n",
    "plt.imshow(x_grid)"
   ]
  },
  {
   "cell_type": "code",
   "execution_count": 88,
   "metadata": {},
   "outputs": [
    {
     "data": {
      "text/plain": [
       "(0.0, 128.0)"
      ]
     },
     "execution_count": 88,
     "metadata": {},
     "output_type": "execute_result"
    },
    {
     "data": {
      "image/png": "[encoded data removed]",
      "text/plain": [
       "<Figure size 432x288 with 1 Axes>"
      ]
     },
     "metadata": {
      "needs_background": "light"
     },
     "output_type": "display_data"
    }
   ],
   "source": [
    "xyz_torch = (label3d[0, 9] > -0).nonzero(as_tuple=False)\n",
    "\n",
    "x = xyz_torch[:,0]\n",
    "y = xyz_torch[:,1]\n",
    "z = xyz_torch[:,2]\n",
    "fig = plt.figure()\n",
    "ax = fig.add_subplot(projection='3d')\n",
    "ax.scatter(x,y,z)\n",
    "ax.set_xlim([0,48])\n",
    "ax.set_ylim([0,128])\n",
    "ax.set_zlim([0,128])"
   ]
  },
  {
   "cell_type": "code",
   "execution_count": 94,
   "metadata": {},
   "outputs": [
    {
     "name": "stdout",
     "output_type": "stream",
     "text": [
      "Skipping organ 3\n"
     ]
    }
   ],
   "source": [
    "from scipy.spatial import Delaunay, ConvexHull\n",
    "all_organs = []\n",
    "organ_names = []\n",
    "for organ_idx in range(9):\n",
    "    xyz_torch = (label3d[0, organ_idx] > 0).nonzero(as_tuple=False)\n",
    "    all_organs.append(xyz_torch)\n",
    "    if xyz_torch.shape[0] > 0:\n",
    "\n",
    "        plot_df = pd.DataFrame(data=xyz_torch, columns=[\"x\", \"y\", \"z\"])\n",
    "        #points2D=np.vstack([xyz_torch[:,1],xyz_torch[:,2]]).T\n",
    "        #plot_df[\"facecolor\"] = plot_df[[\"x\", \"y\", \"z\"]].apply(lambda s: \"rgb(0, {}, 0)\".format(label3d[0, organ_idx][s[0], s[1], s[2]]), axis=1)\n",
    "        plot_df[\"facecolor\"] = 'rgb(35,169,131)'\n",
    "        plot_df[\"organ_name\"] = f\"organ_{organ_idx}\"\n",
    "        organ_names.append(plot_df[\"organ_name\"].values)\n",
    "        plot_df.to_csv(f\"organ_{organ_idx}.csv\")\n",
    "    else:\n",
    "        print(f\"Skipping organ {organ_idx}\")\n",
    "\n",
    "all_organs = np.concatenate(all_organs)\n",
    "plot_df = pd.DataFrame(data=all_organs, columns=[\"x\", \"y\", \"z\"])\n",
    "plot_df[\"facecolor\"] = 'rgb(35,169,131)'\n",
    "plot_df[\"organ_names\"] = np.concatenate(organ_names)\n",
    "plot_df.to_csv(f\"all_organs.csv\")\n",
    "\n"
   ]
  },
  {
   "cell_type": "code",
   "execution_count": 98,
   "metadata": {},
   "outputs": [
    {
     "data": {
      "text/plain": [
       "(769, 3)"
      ]
     },
     "execution_count": 98,
     "metadata": {},
     "output_type": "execute_result"
    }
   ],
   "source": [
    "all_organs.shape"
   ]
  },
  {
   "cell_type": "code",
   "execution_count": 19,
   "metadata": {},
   "outputs": [],
   "source": [
    "import plotly.graph_objects as go\n",
    "\n",
    "\n",
    "organ_idx = 9\n",
    "separated_labels = (label3d[0, 9] > 0).nonzero(as_tuple=False)\n",
    "\n",
    "point_coords = separated_labels\n"
   ]
  },
  {
   "cell_type": "code",
   "execution_count": 21,
   "metadata": {},
   "outputs": [],
   "source": [
    "label3d[0,9][separated_labels].shape"
   ]
  },
  {
   "cell_type": "code",
   "execution_count": 20,
   "metadata": {},
   "outputs": [],
   "source": [
    "\n",
    "x = point_coords[:, 0]\n",
    "y = point_coords[:, 1]\n",
    "z = point_coords[:, 2]\n",
    "fig=go.Figure(\n",
    "    go.Mesh3d(\n",
    "        x=x, y=y, z=z,\n",
    "        intensity=label3d[0,9]\n",
    "        alphahull=0,\n",
    "        opacity=0.4,\n",
    "        colorscale=\"ice\"\n",
    "        )\n",
    "        )\n",
    "#fig.update_xaxes(range=[0, 48])\n",
    "#fig.update_yaxes(range=[0, 248])\n",
    "#fig.update_zaxes(range=[0, 248])\n",
    "fig.show()"
   ]
  },
  {
   "cell_type": "code",
   "execution_count": 17,
   "metadata": {},
   "outputs": [
    {
     "data": {
      "image/png": "[encoded data removed]",
      "text/plain": [
       "<Figure size 432x288 with 1 Axes>"
      ]
     },
     "metadata": {
      "needs_background": "light"
     },
     "output_type": "display_data"
    }
   ],
   "source": [
    "\n",
    "plt.hist(separated_labels.numpy().flatten(), bins=100)\n",
    "\n",
    "plt.show()"
   ]
  },
  {
   "cell_type": "code",
   "execution_count": 114,
   "metadata": {},
   "outputs": [
    {
     "data": {
      "image/png": "[encoded data removed]",
      "text/plain": [
       "<Figure size 432x288 with 1 Axes>"
      ]
     },
     "metadata": {
      "needs_background": "light"
     },
     "output_type": "display_data"
    }
   ],
   "source": [
    "\n",
    "plt.hist(separated_labels.flatten(), bins=100)\n",
    "\n",
    "plt.show()"
   ]
  },
  {
   "cell_type": "code",
   "execution_count": 125,
   "metadata": {},
   "outputs": [],
   "source": [
    "import plotly.graph_objects as go\n",
    "import numpy as np\n",
    "config = dict({'scrollZoom': True})\n",
    "\n",
    "pts = np.loadtxt(np.DataSource().open('https://raw.githubusercontent.com/plotly/datasets/master/mesh_dataset.txt'))\n",
    "x, y, z = pts.T\n",
    "\n",
    "fig = go.Figure(data=[go.Mesh3d(x=x, y=y, z=z,\n",
    "                   alphahull=5,\n",
    "                   opacity=0.4,\n",
    "                   color='cyan')])\n",
    "fig.show(config=config)"
   ]
  }
 ],
 "metadata": {
  "interpreter": {
   "hash": "e11b39e258ce4d5d8da63d84a4ce623d390dee4c95f501d4ac42e2eea86ca73b"
  },
  "kernelspec": {
   "display_name": "Python 3.9.6 ('.venv': venv)",
   "language": "python",
   "name": "python3"
  },
  "language_info": {
   "codemirror_mode": {
    "name": "ipython",
    "version": 3
   },
   "file_extension": ".py",
   "mimetype": "text/x-python",
   "name": "python",
   "nbconvert_exporter": "python",
   "pygments_lexer": "ipython3",
   "version": "3.9.6"
  },
  "orig_nbformat": 4
 },
 "nbformat": 4,
 "nbformat_minor": 2
}
