{
 "cells": [
  {
   "cell_type": "markdown",
   "metadata": {},
   "source": [
    "# Organ segmentation reproduction sandbox\n",
    "\n",
    "## Contents\n",
    "\n",
    "1. Imports\n",
    "2. Testing out TensorBoard\n",
    "3. Create the dataset\n",
    "4. Define the model architecture\n",
    "5. Train the model\n",
    "6. View the results\n",
    "7. Test the model\n",
    "8. Reproduce the results\n"
   ]
  },
  {
   "cell_type": "code",
   "execution_count": 38,
   "metadata": {},
   "outputs": [],
   "source": [
    "# Setup\n",
    "import os\n",
    "import numpy as np # For general mathematical operations\n",
    "import pandas as pd\n",
    "import torch\n",
    "import torch.nn as nn\n",
    "from torch.utils.data import DataLoader\n",
    "from torchvision import datasets, transforms\n",
    "import matplotlib.pyplot as plt # For plotting the results\n",
    "from torchsummary import summary # For model summaries\n",
    "from torch.utils.tensorboard import SummaryWriter # For writing into tensorboard\n",
    "import nrrd # For reading and manipulating nrrd files\n",
    "from glob import glob"
   ]
  },
  {
   "cell_type": "markdown",
   "metadata": {},
   "source": [
    "\n",
    "# Testing out tensorboard <a id=\"TensorBoardTest\"></a>"
   ]
  },
  {
   "cell_type": "code",
   "execution_count": 23,
   "metadata": {},
   "outputs": [],
   "source": [
    "writer = SummaryWriter(comment=\"Tensorboard Test\")\n",
    "x = torch.arange(-5, 5, 0.1).view(-1, 1)\n",
    "y = -5 * x + 0.1 * torch.randn(x.size())\n",
    "\n",
    "model = torch.nn.Linear(1, 1)\n",
    "criterion = torch.nn.MSELoss()\n",
    "optimizer = torch.optim.SGD(model.parameters(), lr = 0.1)\n",
    "\n",
    "def train_model(iter):\n",
    "    for epoch in range(iter):\n",
    "        y1 = model(x)\n",
    "        loss = criterion(y1, y)\n",
    "        writer.add_scalar(\"Loss/train\", loss, epoch)\n",
    "        optimizer.zero_grad()\n",
    "        loss.backward()\n",
    "        optimizer.step()\n",
    "\n",
    "train_model(10)\n",
    "writer.flush()"
   ]
  },
  {
   "cell_type": "markdown",
   "metadata": {},
   "source": [
    "Remove test run after recognising it works (CAREFUL)"
   ]
  },
  {
   "cell_type": "code",
   "execution_count": 24,
   "metadata": {},
   "outputs": [],
   "source": [
    "%rm -r runs"
   ]
  },
  {
   "cell_type": "markdown",
   "metadata": {},
   "source": [
    "# Create the dataset"
   ]
  },
  {
   "cell_type": "code",
   "execution_count": 93,
   "metadata": {},
   "outputs": [],
   "source": [
    "structures = [\n",
    "    \"BrainStem\",\n",
    "    \"Chiasm\",\n",
    "    \"Mandible\",\n",
    "    \"OpticNerve_L\",\n",
    "    \"OpticNerve_R\",\n",
    "    \"Parotid_L\",\n",
    "    \"Parotid_R\",\n",
    "    \"Submandibular_L\",\n",
    "    \"Submandibular_R\"\n",
    "]"
   ]
  },
  {
   "cell_type": "markdown",
   "metadata": {},
   "source": [
    "## A sample image\n",
    "\n",
    "The images are 3D images of human heads. The segmentations are 3D images, where the wanted part is \"highlighted\". The range of the image values is [0,1]."
   ]
  },
  {
   "cell_type": "code",
   "execution_count": 92,
   "metadata": {},
   "outputs": [
    {
     "data": {
      "text/plain": [
       "<matplotlib.image.AxesImage at 0x7fb885d660d0>"
      ]
     },
     "execution_count": 92,
     "metadata": {},
     "output_type": "execute_result"
    },
    {
     "data": {
      "image/png": "[encoded data removed]",
      "text/plain": [
       "<Figure size 432x288 with 2 Axes>"
      ]
     },
     "metadata": {
      "needs_background": "light"
     },
     "output_type": "display_data"
    }
   ],
   "source": [
    "\n",
    "sample_fullimage, header_fullimage = nrrd.read(\"./data/raw/PDDCA-1.4.1_part1/0522c0001/img.nrrd\")\n",
    "sample_brainstem, header_brainstem = nrrd.read(\"./data/raw/PDDCA-1.4.1_part1/0522c0001/structures/BrainStem.nrrd\")\n",
    "fig, axs = plt.subplots(2,1)\n",
    "axs[0].imshow(sample_fullimage[250,:,:][:,::-1].T, vmax=0.001)\n",
    "axs[1].imshow(sample_brainstem[250,:,:][:,::-1].T, vmax=0.001)"
   ]
  },
  {
   "cell_type": "code",
   "execution_count": 171,
   "metadata": {},
   "outputs": [],
   "source": [
    "from torch.utils.data import Dataset\n",
    "from torchvision import datasets\n",
    "from torchvision.transforms import ToTensor\n",
    "from pathlib import Path\n",
    "\n",
    "def pad_tensor(t, output_size=512):\n",
    "    l, w, h = t.shape\n",
    "    missing = output_size - l\n",
    "    zeros = torch.zeros(size=(missing, w, h))\n",
    "    t = torch.concat([t, zeros])\n",
    "    return t\n",
    "\n",
    "class CustomImageDataset(Dataset):\n",
    "    def __init__(self, image_paths, target_structure, transform=None, target_transform=None):\n",
    "        self.image_paths = image_paths\n",
    "        self.target_structure = target_structure\n",
    "        self.transform = transform\n",
    "        self.target_transform = target_transform\n",
    "\n",
    "    def __len__(self):\n",
    "        return len(self.image_paths)\n",
    "\n",
    "    def __getitem__(self, idx):\n",
    "        image_path = Path(self.image_paths[idx])\n",
    "        image_filepath = image_path / \"img.nrrd\"\n",
    "        structure_filepath = image_path / \"structures\" / (self.target_structure + \".nrrd\")\n",
    "\n",
    "        image, _ = nrrd.read(image_filepath)\n",
    "        structure, _ = nrrd.read(structure_filepath)\n",
    "\n",
    "        if self.transform:\n",
    "            image = self.transform(image)\n",
    "        if self.target_transform:\n",
    "            structure = self.target_transform(structure)\n",
    "        return image, structure"
   ]
  },
  {
   "cell_type": "code",
   "execution_count": 172,
   "metadata": {},
   "outputs": [],
   "source": [
    "# Read the filenames\n",
    "\n",
    "raw_1_img_filepaths = glob(\"./data/raw/PDDCA-1.4.1_part1/*\")\n",
    "\n",
    "train_transform = transforms.Compose([\n",
    "            transforms.ToTensor(),\n",
    "            pad_tensor,\n",
    "        ])\n",
    "# Create the dataset\n",
    "train_set_brainstem = CustomImageDataset(\n",
    "    raw_1_img_filepaths, \n",
    "    target_structure=\"BrainStem\",\n",
    "    transform=train_transform, \n",
    "    target_transform=train_transform, \n",
    "    )\n",
    "\n",
    "# Define data loaders used to iterate through dataset\n",
    "train_dataloader = DataLoader(train_set_brainstem, batch_size=8, shuffle=True)\n",
    "#test_loader = DataLoader(test_data, batch_size=1000)\n"
   ]
  },
  {
   "cell_type": "code",
   "execution_count": 173,
   "metadata": {},
   "outputs": [],
   "source": [
    "train_features, train_labels = next(iter(train_dataloader))"
   ]
  },
  {
   "cell_type": "code",
   "execution_count": 181,
   "metadata": {},
   "outputs": [
    {
     "data": {
      "text/plain": [
       "<matplotlib.image.AxesImage at 0x7fb4f6938130>"
      ]
     },
     "execution_count": 181,
     "metadata": {},
     "output_type": "execute_result"
    },
    {
     "data": {
      "image/png": "[encoded data removed]",
      "text/plain": [
       "<Figure size 432x288 with 1 Axes>"
      ]
     },
     "metadata": {
      "needs_background": "light"
     },
     "output_type": "display_data"
    }
   ],
   "source": [
    "plt.imshow(train_features[0,100,:,:])"
   ]
  },
  {
   "cell_type": "markdown",
   "metadata": {},
   "source": [
    "# Define the model\n",
    "\n",
    "The model architecture as per the paper."
   ]
  },
  {
   "cell_type": "code",
   "execution_count": 183,
   "metadata": {},
   "outputs": [],
   "source": [
    "def conv_2x2d():\n",
    "    pass\n",
    "\n",
    "def conv_2x3d_coarse():\n",
    "    pass\n",
    "\n",
    "def conv_3d_fine():\n",
    "    pass\n",
    "\n",
    "class OrganNetRepro(torch.nn.Module):\n",
    "\n",
    "    def __init__(self):\n",
    "        \"\"\"\n",
    "        Initialize the network.\n",
    "        \"\"\"\n",
    "\n",
    "        # 2D layers\n",
    "        self.two_d_1 = conv_2x2d()\n",
    "        self.two_d_2 = conv_2x2d()\n",
    "\n",
    "        # Coarse 3D layers\n",
    "\n",
    "        self.coarse_3d_1 = conv_2x3d_coarse()\n",
    "        self.coarse_3d_2 = conv_2x3d_coarse()\n",
    "        self.coarse_3d_3 = conv_2x3d_coarse()\n",
    "        self.coarse_3d_4 = conv_2x3d_coarse()\n",
    "\n",
    "        # Fine 3D block\n",
    "\n",
    "        self.fine_3d_1 = conv_3d_fine()\n",
    "        self.fine_3d_2 = conv_3d_fine()\n",
    "        self.fine_3d_3 = conv_3d_fine()\n",
    "\n",
    "\n",
    "        self.layers = [\n",
    "            self.two_d_1,\n",
    "            self.two_d_2,\n",
    "            self.coarse_3d_1,\n",
    "            self.coarse_3d_2,\n",
    "            self.coarse_3d_3,\n",
    "            self.coarse_3d_4,\n",
    "            self.fine_3d_1,\n",
    "            self.fine_3d_2,\n",
    "            self.fine_3d_3,\n",
    "        ]\n",
    "\n",
    "    def forward():\n",
    "\n",
    "\n",
    "        ## Part 1 (Left side)\n",
    "\n",
    "        # Input to 2D layer 1 -> Output 1\n",
    "        # Output 1 to pooling layer S(1,2,2) -> Output 2 # TODO what pooling is this?\n",
    "        # Output 2 to coarse 3D layer 1 -> Output 3\n",
    "        # Output 3 to pooling layer S(2,2,2) -> Output 4 # TODO what pooling?\n",
    "        # Output 4 to Coarse 3D layer 2 -> Output 5\n",
    "        # Output 5 to Fine 3D Layer 1 -> Output 6\n",
    "        \n",
    "        # Part 2 (Bottom, starting from the first Orange arrow)\n",
    "        # Output 6 to Fine 3D Layer 2 -> Output 7\n",
    "        # Output 7 to \"Conv 1x1x1\" layer 1 -> Output 8 # TODO Elaborate on the 1x1x1 layer\n",
    "        # Concatenate Output 6 and Output 8 -> Output 9\n",
    "        # Output 9 to Fine 3D Layer 3 -> Output 10\n",
    "        \n",
    "        # Part 3 (Right side, starting from the bottom right yellow arrow)\n",
    "        # Output 10 to 1x1x1 layer 2 -> Output 11 # TODO still missing\n",
    "        # Concatenate Output 11 and Output 5 -> Output 12\n",
    "        # Output 12 to Coarse 3d layer 3 -> Output 13\n",
    "        # Transpose Output 13 -> Output 14\n",
    "        # Concatenate Output 14 and Output 3 -> Output 15\n",
    "        # Output 15 to Coarse 3d Layer 4 -> Output 16\n",
    "        # Concatenate Output 1 and Output 16 -> Output 17\n",
    "        # Output 17 to 2D layer 2 -> Output 18\n",
    "        # Output 18 to 1x1x1 layer 3 -> Final output\n",
    "\n",
    "        \n",
    "\n",
    "        pass\n",
    "        \n"
   ]
  },
  {
   "cell_type": "code",
   "execution_count": null,
   "metadata": {},
   "outputs": [],
   "source": [
    "    "
   ]
  },
  {
   "cell_type": "code",
   "execution_count": null,
   "metadata": {},
   "outputs": [],
   "source": []
  },
  {
   "cell_type": "code",
   "execution_count": null,
   "metadata": {},
   "outputs": [],
   "source": []
  },
  {
   "cell_type": "code",
   "execution_count": null,
   "metadata": {},
   "outputs": [],
   "source": []
  }
 ],
 "metadata": {
  "interpreter": {
   "hash": "e11b39e258ce4d5d8da63d84a4ce623d390dee4c95f501d4ac42e2eea86ca73b"
  },
  "kernelspec": {
   "display_name": "Python 3.9.6 ('.venv': venv)",
   "language": "python",
   "name": "python3"
  },
  "language_info": {
   "codemirror_mode": {
    "name": "ipython",
    "version": 3
   },
   "file_extension": ".py",
   "mimetype": "text/x-python",
   "name": "python",
   "nbconvert_exporter": "python",
   "pygments_lexer": "ipython3",
   "version": "3.9.6"
  },
  "orig_nbformat": 4
 },
 "nbformat": 4,
 "nbformat_minor": 2
}
