{
 "cells": [
  {
   "cell_type": "markdown",
   "metadata": {},
   "source": [
    "# Organ segmentation reproduction sandbox\n",
    "\n",
    "## Contents\n",
    "\n",
    "1. Imports\n",
    "2. Testing out TensorBoard\n",
    "3. Create the dataset\n",
    "4. Define the model architecture\n",
    "5. Train the model\n",
    "6. View the results\n",
    "7. Test the model\n",
    "8. Reproduce the results\n"
   ]
  },
  {
   "cell_type": "code",
   "execution_count": 8,
   "metadata": {},
   "outputs": [],
   "source": [
    "# Setup\n",
    "import os\n",
    "import numpy as np # For general mathematical operations\n",
    "import pandas as pd\n",
    "import torch\n",
    "import torch.nn as nn\n",
    "from torch.utils.data import DataLoader\n",
    "from torchvision import datasets, transforms\n",
    "import torchvision\n",
    "import matplotlib.pyplot as plt # For plotting the results\n",
    "from torchsummary import summary # For model summaries\n",
    "from torch.utils.tensorboard import SummaryWriter # For writing into tensorboard\n",
    "import nrrd # For reading and manipulating nrrd files\n",
    "from glob import glob\n",
    "\n",
    "%load_ext autoreload\n",
    "%autoreload 2"
   ]
  },
  {
   "cell_type": "markdown",
   "metadata": {},
   "source": [
    "\n",
    "# Testing out tensorboard <a id=\"TensorBoardTest\"></a>"
   ]
  },
  {
   "cell_type": "code",
   "execution_count": 4,
   "metadata": {},
   "outputs": [],
   "source": [
    "writer = SummaryWriter(comment=\"Tensorboard Test\")\n",
    "x = torch.arange(-5, 5, 0.1).view(-1, 1)\n",
    "y = -5 * x + 0.1 * torch.randn(x.size())\n",
    "\n",
    "model = torch.nn.Linear(1, 1)\n",
    "criterion = torch.nn.MSELoss()\n",
    "optimizer = torch.optim.SGD(model.parameters(), lr = 0.1)\n",
    "\n",
    "def train_model(iter):\n",
    "    for epoch in range(iter):\n",
    "        y1 = model(x)\n",
    "        loss = criterion(y1, y)\n",
    "        writer.add_scalar(\"Loss/train\", loss, epoch)\n",
    "        writer.add_scalar(\"New param 2\", 5, epoch)\n",
    "        optimizer.zero_grad()\n",
    "        loss.backward()\n",
    "        optimizer.step()\n",
    "\n",
    "train_model(10)\n",
    "writer.flush()"
   ]
  },
  {
   "cell_type": "markdown",
   "metadata": {},
   "source": [
    "Remove test run after recognising it works (CAREFUL)"
   ]
  },
  {
   "cell_type": "code",
   "execution_count": 10,
   "metadata": {},
   "outputs": [],
   "source": [
    "%rm -r runs"
   ]
  },
  {
   "cell_type": "markdown",
   "metadata": {},
   "source": [
    "# Create the dataset"
   ]
  },
  {
   "cell_type": "code",
   "execution_count": 11,
   "metadata": {},
   "outputs": [],
   "source": [
    "structures = [\n",
    "    \"BrainStem\",\n",
    "    \"Chiasm\",\n",
    "    \"Mandible\",\n",
    "    \"OpticNerve_L\",\n",
    "    \"OpticNerve_R\",\n",
    "    \"Parotid_L\",\n",
    "    \"Parotid_R\",\n",
    "    \"Submandibular_L\",\n",
    "    \"Submandibular_R\"\n",
    "]"
   ]
  },
  {
   "cell_type": "markdown",
   "metadata": {},
   "source": [
    "## A sample image\n",
    "\n",
    "The images are 3D images of human heads. The segmentations are 3D images, where the wanted part is \"highlighted\". The range of the image values is [0,1]."
   ]
  },
  {
   "cell_type": "code",
   "execution_count": 12,
   "metadata": {},
   "outputs": [
    {
     "data": {
      "text/plain": [
       "<matplotlib.image.AxesImage at 0x7ff19531eaf0>"
      ]
     },
     "execution_count": 12,
     "metadata": {},
     "output_type": "execute_result"
    },
    {
     "data": {
      "image/png": "[encoded data removed]",
      "text/plain": [
       "<Figure size 432x288 with 2 Axes>"
      ]
     },
     "metadata": {
      "needs_background": "light"
     },
     "output_type": "display_data"
    }
   ],
   "source": [
    "\n",
    "sample_fullimage, header_fullimage = nrrd.read(\"./data/raw/PDDCA-1.4.1_part1/0522c0001/img.nrrd\")\n",
    "sample_brainstem, header_brainstem = nrrd.read(\"./data/raw/PDDCA-1.4.1_part1/0522c0001/structures/BrainStem.nrrd\")\n",
    "fig, axs = plt.subplots(2,1)\n",
    "axs[0].imshow(sample_fullimage[250,:,:][:,::-1].T, vmax=0.001)\n",
    "axs[1].imshow(sample_brainstem[250,:,:][:,::-1].T, vmax=0.001)"
   ]
  },
  {
   "cell_type": "code",
   "execution_count": 13,
   "metadata": {},
   "outputs": [],
   "source": [
    "from torch.utils.data import Dataset\n",
    "from torchvision import datasets\n",
    "from torchvision.transforms import ToTensor\n",
    "from pathlib import Path\n",
    "\n",
    "def pad_tensor(t, output_size=512):\n",
    "    l, w, h = t.shape\n",
    "    missing = output_size - l\n",
    "    zeros = torch.zeros(size=(missing, w, h))\n",
    "    t = torch.concat([t, zeros])\n",
    "    return t\n",
    "\n",
    "class CustomImageDataset(Dataset):\n",
    "    def __init__(self, image_paths, target_structure, transform=None, target_transform=None):\n",
    "        self.image_paths = image_paths\n",
    "        self.target_structure = target_structure\n",
    "        self.transform = transform\n",
    "        self.target_transform = target_transform\n",
    "\n",
    "    def __len__(self):\n",
    "        return len(self.image_paths)\n",
    "\n",
    "    def __getitem__(self, idx):\n",
    "        image_path = Path(self.image_paths[idx])\n",
    "        image_filepath = image_path / \"img.nrrd\"\n",
    "        structure_filepath = image_path / \"structures\" / (self.target_structure + \".nrrd\")\n",
    "\n",
    "        image, _ = nrrd.read(image_filepath)\n",
    "        structure, _ = nrrd.read(structure_filepath)\n",
    "\n",
    "        if self.transform:\n",
    "            image = self.transform(image)\n",
    "        if self.target_transform:\n",
    "            structure = self.target_transform(structure)\n",
    "        return image, structure"
   ]
  },
  {
   "cell_type": "code",
   "execution_count": 26,
   "metadata": {},
   "outputs": [
    {
     "ename": "ValueError",
     "evalue": "If size is a sequence, it should have 1 or 2 values",
     "output_type": "error",
     "traceback": [
      "\u001b[0;31m---------------------------------------------------------------------------\u001b[0m",
      "\u001b[0;31mValueError\u001b[0m                                Traceback (most recent call last)",
      "\u001b[1;32m/Users/veikko/Documents/GitHub/organ-segmentation/sandbox-veikko.ipynb Cell 12'\u001b[0m in \u001b[0;36m<cell line: 7>\u001b[0;34m()\u001b[0m\n\u001b[1;32m      <a href='vscode-notebook-cell:/Users/veikko/Documents/GitHub/organ-segmentation/sandbox-veikko.ipynb#ch0000011?line=2'>3</a>\u001b[0m raw_1_img_filepaths \u001b[39m=\u001b[39m glob(\u001b[39m\"\u001b[39m\u001b[39m./data/raw/PDDCA-1.4.1_part1/*\u001b[39m\u001b[39m\"\u001b[39m)\n\u001b[1;32m      <a href='vscode-notebook-cell:/Users/veikko/Documents/GitHub/organ-segmentation/sandbox-veikko.ipynb#ch0000011?line=4'>5</a>\u001b[0m network_input_size \u001b[39m=\u001b[39m (\u001b[39m256\u001b[39m,\u001b[39m256\u001b[39m,\u001b[39m48\u001b[39m)\n\u001b[0;32m----> <a href='vscode-notebook-cell:/Users/veikko/Documents/GitHub/organ-segmentation/sandbox-veikko.ipynb#ch0000011?line=6'>7</a>\u001b[0m torchvision\u001b[39m.\u001b[39;49mtransforms\u001b[39m.\u001b[39;49mResize(network_input_size)\n\u001b[1;32m      <a href='vscode-notebook-cell:/Users/veikko/Documents/GitHub/organ-segmentation/sandbox-veikko.ipynb#ch0000011?line=8'>9</a>\u001b[0m train_transform \u001b[39m=\u001b[39m transforms\u001b[39m.\u001b[39mCompose([\n\u001b[1;32m     <a href='vscode-notebook-cell:/Users/veikko/Documents/GitHub/organ-segmentation/sandbox-veikko.ipynb#ch0000011?line=9'>10</a>\u001b[0m             transforms\u001b[39m.\u001b[39mToTensor(),\n\u001b[1;32m     <a href='vscode-notebook-cell:/Users/veikko/Documents/GitHub/organ-segmentation/sandbox-veikko.ipynb#ch0000011?line=10'>11</a>\u001b[0m             pad_tensor,\n\u001b[1;32m     <a href='vscode-notebook-cell:/Users/veikko/Documents/GitHub/organ-segmentation/sandbox-veikko.ipynb#ch0000011?line=11'>12</a>\u001b[0m         ])\n\u001b[1;32m     <a href='vscode-notebook-cell:/Users/veikko/Documents/GitHub/organ-segmentation/sandbox-veikko.ipynb#ch0000011?line=13'>14</a>\u001b[0m \u001b[39m# Create the dataset\u001b[39;00m\n",
      "File \u001b[0;32m~/Documents/GitHub/organ-segmentation/.venv/lib/python3.9/site-packages/torchvision/transforms/transforms.py:326\u001b[0m, in \u001b[0;36mResize.__init__\u001b[0;34m(self, size, interpolation, max_size, antialias)\u001b[0m\n\u001b[1;32m    <a href='file:///Users/veikko/Documents/GitHub/organ-segmentation/.venv/lib/python3.9/site-packages/torchvision/transforms/transforms.py?line=323'>324</a>\u001b[0m     \u001b[39mraise\u001b[39;00m \u001b[39mTypeError\u001b[39;00m(\u001b[39mf\u001b[39m\u001b[39m\"\u001b[39m\u001b[39mSize should be int or sequence. Got \u001b[39m\u001b[39m{\u001b[39;00m\u001b[39mtype\u001b[39m(size)\u001b[39m}\u001b[39;00m\u001b[39m\"\u001b[39m)\n\u001b[1;32m    <a href='file:///Users/veikko/Documents/GitHub/organ-segmentation/.venv/lib/python3.9/site-packages/torchvision/transforms/transforms.py?line=324'>325</a>\u001b[0m \u001b[39mif\u001b[39;00m \u001b[39misinstance\u001b[39m(size, Sequence) \u001b[39mand\u001b[39;00m \u001b[39mlen\u001b[39m(size) \u001b[39mnot\u001b[39;00m \u001b[39min\u001b[39;00m (\u001b[39m1\u001b[39m, \u001b[39m2\u001b[39m):\n\u001b[0;32m--> <a href='file:///Users/veikko/Documents/GitHub/organ-segmentation/.venv/lib/python3.9/site-packages/torchvision/transforms/transforms.py?line=325'>326</a>\u001b[0m     \u001b[39mraise\u001b[39;00m \u001b[39mValueError\u001b[39;00m(\u001b[39m\"\u001b[39m\u001b[39mIf size is a sequence, it should have 1 or 2 values\u001b[39m\u001b[39m\"\u001b[39m)\n\u001b[1;32m    <a href='file:///Users/veikko/Documents/GitHub/organ-segmentation/.venv/lib/python3.9/site-packages/torchvision/transforms/transforms.py?line=326'>327</a>\u001b[0m \u001b[39mself\u001b[39m\u001b[39m.\u001b[39msize \u001b[39m=\u001b[39m size\n\u001b[1;32m    <a href='file:///Users/veikko/Documents/GitHub/organ-segmentation/.venv/lib/python3.9/site-packages/torchvision/transforms/transforms.py?line=327'>328</a>\u001b[0m \u001b[39mself\u001b[39m\u001b[39m.\u001b[39mmax_size \u001b[39m=\u001b[39m max_size\n",
      "\u001b[0;31mValueError\u001b[0m: If size is a sequence, it should have 1 or 2 values"
     ]
    }
   ],
   "source": [
    "# Read the filenames\n",
    "\n",
    "raw_1_img_filepaths = glob(\"./data/raw/PDDCA-1.4.1_part1/*\")\n",
    "\n",
    "network_input_size = (256,256,48)\n",
    "\n",
    "torchvision.transforms.Resize(network_input_size)\n",
    "\n",
    "train_transform = transforms.Compose([\n",
    "            transforms.ToTensor(),\n",
    "            pad_tensor,\n",
    "        ])\n",
    "\n",
    "# Create the dataset\n",
    "train_set_brainstem = CustomImageDataset(\n",
    "    raw_1_img_filepaths, \n",
    "    target_structure=\"BrainStem\",\n",
    "    transform=train_transform, \n",
    "    target_transform=train_transform, \n",
    "    )\n",
    "\n",
    "# Define data loaders used to iterate through dataset\n",
    "train_dataloader = DataLoader(train_set_brainstem, batch_size=8, shuffle=True)\n",
    "#test_loader = DataLoader(test_data, batch_size=1000)\n"
   ]
  },
  {
   "cell_type": "code",
   "execution_count": 15,
   "metadata": {},
   "outputs": [],
   "source": [
    "train_features, train_labels = next(iter(train_dataloader))"
   ]
  },
  {
   "cell_type": "code",
   "execution_count": 24,
   "metadata": {},
   "outputs": [
    {
     "data": {
      "text/plain": [
       "<matplotlib.image.AxesImage at 0x7fef189734c0>"
      ]
     },
     "execution_count": 24,
     "metadata": {},
     "output_type": "execute_result"
    },
    {
     "data": {
      "image/png": "[encoded data removed]",
      "text/plain": [
       "<Figure size 432x288 with 2 Axes>"
      ]
     },
     "metadata": {
      "needs_background": "light"
     },
     "output_type": "display_data"
    }
   ],
   "source": [
    "fig, axes = plt.subplots(1,2)\n",
    "axes[0].imshow(train_features[0,100,:,:])\n",
    "axes[1].imshow(train_labels[0,100,:,:])"
   ]
  },
  {
   "cell_type": "code",
   "execution_count": 27,
   "metadata": {},
   "outputs": [
    {
     "data": {
      "text/plain": [
       "torch.Size([512, 512, 512])"
      ]
     },
     "execution_count": 27,
     "metadata": {},
     "output_type": "execute_result"
    }
   ],
   "source": [
    "train_features[0].shape\n",
    "#pd.DataFrame(train_features[0,0]).describe().mean(axis=1)"
   ]
  },
  {
   "cell_type": "markdown",
   "metadata": {},
   "source": [
    "# Define the model\n",
    "\n",
    "The model architecture as per the paper."
   ]
  },
  {
   "cell_type": "code",
   "execution_count": 5,
   "metadata": {},
   "outputs": [],
   "source": [
    "def conv_2x2d():\n",
    "    pass\n",
    "\n",
    "def conv_2x3d_coarse():\n",
    "    pass\n",
    "\n",
    "def conv_3d_fine():\n",
    "    pass\n",
    "\n",
    "class OrganNetRepro(torch.nn.Module):\n",
    "\n",
    "    def __init__(self):\n",
    "        \"\"\"\n",
    "        Initialize the network.\n",
    "        \"\"\"\n",
    "\n",
    "        # 2D layers\n",
    "        self.two_d_1 = conv_2x2d()\n",
    "        self.two_d_2 = conv_2x2d()\n",
    "\n",
    "        # Coarse 3D layers\n",
    "\n",
    "        self.coarse_3d_1 = conv_2x3d_coarse()\n",
    "        self.coarse_3d_2 = conv_2x3d_coarse()\n",
    "        self.coarse_3d_3 = conv_2x3d_coarse()\n",
    "        self.coarse_3d_4 = conv_2x3d_coarse()\n",
    "\n",
    "        # Fine 3D block\n",
    "\n",
    "        self.fine_3d_1 = conv_3d_fine()\n",
    "        self.fine_3d_2 = conv_3d_fine()\n",
    "        self.fine_3d_3 = conv_3d_fine()\n",
    "\n",
    "\n",
    "        self.layers = [\n",
    "            self.two_d_1,\n",
    "            self.two_d_2,\n",
    "            self.coarse_3d_1,\n",
    "            self.coarse_3d_2,\n",
    "            self.coarse_3d_3,\n",
    "            self.coarse_3d_4,\n",
    "            self.fine_3d_1,\n",
    "            self.fine_3d_2,\n",
    "            self.fine_3d_3,\n",
    "        ]\n",
    "\n",
    "    def forward():\n",
    "\n",
    "\n",
    "        ## Part 1 (Left side)\n",
    "\n",
    "        # Input to 2D layer 1 -> Output 1\n",
    "        # Output 1 to pooling layer S(1,2,2) -> Output 2 # TODO what pooling is this?\n",
    "        # Output 2 to coarse 3D layer 1 -> Output 3\n",
    "        # Output 3 to pooling layer S(2,2,2) -> Output 4 # TODO what pooling?\n",
    "        # Output 4 to Coarse 3D layer 2 -> Output 5\n",
    "        # Output 5 to Fine 3D Layer 1 -> Output 6\n",
    "        \n",
    "        # Part 2 (Bottom, starting from the first Orange arrow)\n",
    "        # Output 6 to Fine 3D Layer 2 -> Output 7\n",
    "        # Output 7 to \"Conv 1x1x1\" layer 1 -> Output 8 # TODO Elaborate on the 1x1x1 layer\n",
    "        # Concatenate Output 6 and Output 8 -> Output 9\n",
    "        # Output 9 to Fine 3D Layer 3 -> Output 10\n",
    "        \n",
    "        # Part 3 (Right side, starting from the bottom right yellow arrow)\n",
    "        # Output 10 to 1x1x1 layer 2 -> Output 11 # TODO still missing\n",
    "        # Concatenate Output 11 and Output 5 -> Output 12\n",
    "        # Output 12 to Coarse 3d layer 3 -> Output 13\n",
    "        # Transpose Output 13 -> Output 14\n",
    "        # Concatenate Output 14 and Output 3 -> Output 15\n",
    "        # Output 15 to Coarse 3d Layer 4 -> Output 16\n",
    "        # Concatenate Output 1 and Output 16 -> Output 17\n",
    "        # Output 17 to 2D layer 2 -> Output 18\n",
    "        # Output 18 to 1x1x1 layer 3 -> Final output\n",
    "        \n",
    "        pass\n",
    "        \n"
   ]
  },
  {
   "cell_type": "code",
   "execution_count": 13,
   "metadata": {},
   "outputs": [
    {
     "name": "stdout",
     "output_type": "stream",
     "text": [
      "Printing shapes during the forward operation:\n",
      "\n",
      "\tInput shape : torch.Size([2, 1, 48, 256, 256])\n",
      "\tOutput 1 shape : torch.Size([2, 16, 48, 252, 252])\n",
      "\tOutput 2 shape : torch.Size([2, 16, 48, 126, 126])\n",
      "\tOutput 3 shape : torch.Size([2, 32, 44, 122, 122])\n",
      "\tOutput 4 shape : torch.Size([2, 32, 22, 61, 61])\n",
      "\tOutput 5 shape : torch.Size([2, 64, 18, 57, 57])\n",
      "\n",
      "Input shape: torch.Size([2, 1, 48, 256, 256])\n",
      "\n",
      "Output shape: torch.Size([2, 64, 18, 57, 57])\n",
      "\n",
      "Output shape correct: False (expected: (2, 10, 48, 256, 256)).\n",
      "\n"
     ]
    }
   ],
   "source": [
    "from src.OrganNet25D.firstnetwork import ToyOrganNet25D, OrganNet25D\n",
    "\n",
    "batch = 2\n",
    "width = height = 256\n",
    "depth = 48\n",
    "channels_in = 1\n",
    "channels_out = 10\n",
    "\n",
    "# Batch x Channels x Depth x Height x Width\n",
    "input_shape = (batch, channels_in, depth, height, width)\n",
    "# Batch x  Channels x Depth x Height x Width\n",
    "expected_output_shape = (batch, channels_out, depth, height, width)\n",
    "input = torch.rand(input_shape)\n",
    "\n",
    "model = OrganNet25D()\n",
    "#model = ToyOrganNet25D()\n",
    "\n",
    "output = model(input, verbose=True)\n",
    "\n",
    "msg = f\"\"\"\n",
    "Input shape: {input.shape}\\n\n",
    "Output shape: {output.shape}\\n\n",
    "Output shape correct: {output.shape == expected_output_shape} (expected: {expected_output_shape}).\n",
    "\"\"\"\n",
    "print(msg)"
   ]
  },
  {
   "cell_type": "markdown",
   "metadata": {},
   "source": [
    "# The 2 x Conv + ResSE unit"
   ]
  },
  {
   "cell_type": "code",
   "execution_count": 6,
   "metadata": {},
   "outputs": [
    {
     "name": "stdout",
     "output_type": "stream",
     "text": [
      "Input shape : torch.Size([2, 32, 20, 122, 122])\n",
      "torch.Size([2, 64, 16, 118, 118])\n",
      "torch.Size([2, 64, 1, 1, 1])\n",
      "Output shape : torch.Size([2, 64, 16, 118, 118])\n"
     ]
    }
   ],
   "source": [
    "input_shape = (2, 16, 24, 126, 126)\n",
    "input_shape = (2, 32, 20, 122, 122) # Out of the convolution\n",
    "\n",
    "conv = nn.Sequential(\n",
    "        nn.intrinsic.ConvBnReLU3d(  # does this speed things up?\n",
    "            nn.Conv3d(\n",
    "                in_channels=32,\n",
    "                out_channels=64,\n",
    "                kernel_size=(3,3,3),\n",
    "                stride=1,\n",
    "                padding=0,\n",
    "            ),\n",
    "            torch.nn.BatchNorm3d(64),\n",
    "            nn.ReLU(),\n",
    "        ),\n",
    "        nn.intrinsic.ConvBnReLU3d(  # does this speed things up?\n",
    "            nn.Conv3d(\n",
    "                in_channels=64,\n",
    "                out_channels=64,\n",
    "                kernel_size=(3,3,3),\n",
    "                stride=1,\n",
    "                padding=0,\n",
    "            ),\n",
    "            torch.nn.BatchNorm3d(64),\n",
    "            nn.ReLU(),\n",
    "        ),\n",
    "    )\n",
    "dense = nn.Sequential(\n",
    "    nn.AvgPool3d((16,118,118)),\n",
    "    nn.Flatten(),\n",
    "    nn.Linear(in_features=64,out_features=64),\n",
    "    nn.Linear(in_features=64,out_features=64),\n",
    "    nn.Sigmoid(),\n",
    "    nn.Unflatten(1, (64, 1, 1, 1))\n",
    "    )\n",
    "\n",
    "input = torch.rand(input_shape)\n",
    "\n",
    "test_layer = dense\n",
    "\n",
    "print(f\"Input shape : {input.shape}\")\n",
    "\n",
    "conv_out = conv(input)\n",
    "print(conv_out.shape)\n",
    "dense_out = dense(conv_out)\n",
    "print(dense_out.shape)\n",
    "multi = conv_out*dense_out\n",
    "output = multi+conv_out\n",
    "\n",
    "print(f\"Output shape : {output.shape}\")\n",
    "    "
   ]
  },
  {
   "cell_type": "markdown",
   "metadata": {},
   "source": [
    "# HDC (Hybrid Dilated Convolution)"
   ]
  },
  {
   "cell_type": "code",
   "execution_count": 14,
   "metadata": {},
   "outputs": [
    {
     "name": "stdout",
     "output_type": "stream",
     "text": [
      "Input shape : torch.Size([2, 64, 128, 128, 128])\n",
      "Output shape : torch.Size([2, 64, 128, 128, 128])\n"
     ]
    }
   ],
   "source": [
    "input_shape = (2, 64, 39, 57, 57)\n",
    "input_shape = (1, 32, 32, 32, 32)\n",
    "input_shape = (2, 64, 128, 128, 128)\n",
    "\n",
    "input = torch.rand(input_shape)\n",
    "\n",
    "test_layer = lambda x: x\n",
    "\n",
    "print(f\"Input shape : {input.shape}\")\n",
    "output = test_layer(input)\n",
    "\n",
    "print(f\"Output shape : {output.shape}\")"
   ]
  },
  {
   "cell_type": "code",
   "execution_count": 137,
   "metadata": {},
   "outputs": [
    {
     "name": "stdout",
     "output_type": "stream",
     "text": [
      "tensor([[0.3100, 0.1400, 0.0500, 0.7800, 0.0100, 0.7400, 0.6200, 0.9600],\n",
      "        [0.0600, 0.6500, 0.0200, 0.4200, 0.8700, 0.4200, 0.2900, 0.4600],\n",
      "        [0.2900, 0.5200, 0.3800, 0.4700, 0.2300, 0.9900, 0.7400, 0.9300],\n",
      "        [0.6200, 0.0400, 0.1200, 0.6500, 0.5900, 0.5300, 0.2000, 0.8100],\n",
      "        [0.9700, 0.8700, 0.0900, 0.2300, 0.2300, 0.3500, 0.4000, 0.4500],\n",
      "        [0.7400, 0.2900, 0.9500, 0.1400, 0.4000, 0.8600, 0.3400, 0.3800],\n",
      "        [0.9500, 0.7800, 0.4600, 0.8800, 0.3800, 0.1300, 0.4200, 0.2300],\n",
      "        [0.7400, 0.0700, 0.9200, 0.3200, 0.7400, 0.5700, 0.2200, 0.6000]])\n",
      "tensor([[0.3100, 0.7800, 0.7400, 0.9600],\n",
      "        [0.6500, 0.4200, 0.8700, 0.4600],\n",
      "        [0.5200, 0.4700, 0.9900, 0.9300],\n",
      "        [0.6200, 0.6500, 0.5900, 0.8100],\n",
      "        [0.9700, 0.2300, 0.3500, 0.4500],\n",
      "        [0.7400, 0.9500, 0.8600, 0.3800],\n",
      "        [0.9500, 0.8800, 0.3800, 0.4200],\n",
      "        [0.7400, 0.9200, 0.7400, 0.6000]])\n",
      "tensor([[0.3100, 0.1400, 0.7800, 0.7800, 0.7400, 0.7400, 0.9600],\n",
      "        [0.6500, 0.6500, 0.4200, 0.8700, 0.8700, 0.4200, 0.4600],\n",
      "        [0.5200, 0.5200, 0.4700, 0.4700, 0.9900, 0.9900, 0.9300],\n",
      "        [0.6200, 0.1200, 0.6500, 0.6500, 0.5900, 0.5300, 0.8100],\n",
      "        [0.9700, 0.8700, 0.2300, 0.2300, 0.3500, 0.4000, 0.4500],\n",
      "        [0.7400, 0.9500, 0.9500, 0.4000, 0.8600, 0.8600, 0.3800],\n",
      "        [0.9500, 0.7800, 0.8800, 0.8800, 0.3800, 0.4200, 0.4200],\n",
      "        [0.7400, 0.9200, 0.9200, 0.7400, 0.7400, 0.5700, 0.6000]])\n"
     ]
    }
   ],
   "source": [
    "input = torch.rand((8,8)).round(decimals=2)\n",
    "print(input)\n",
    "\n",
    "output = torch.nn.MaxPool1d(kernel_size=2, stride=2)(input)\n",
    "output2 = torch.nn.MaxPool1d(kernel_size=2, stride=1)(input)\n",
    "print(output)\n",
    "print(output2)"
   ]
  }
 ],
 "metadata": {
  "interpreter": {
   "hash": "78d5d97bb76bbb96d1376ccd2bfa6469892feed02f1d3c2432ffd5137174cd27"
  },
  "kernelspec": {
   "display_name": "Python (organvenv)",
   "language": "python",
   "name": "python3"
  },
  "language_info": {
   "codemirror_mode": {
    "name": "ipython",
    "version": 3
   },
   "file_extension": ".py",
   "mimetype": "text/x-python",
   "name": "python",
   "nbconvert_exporter": "python",
   "pygments_lexer": "ipython3",
   "version": "3.9.6"
  },
  "orig_nbformat": 4
 },
 "nbformat": 4,
 "nbformat_minor": 2
}
